{
  "nbformat": 4,
  "nbformat_minor": 0,
  "metadata": {
    "colab": {
      "provenance": [],
      "authorship_tag": "ABX9TyProG50rA2gy0GTwOY+EiLI",
      "include_colab_link": true
    },
    "kernelspec": {
      "name": "python3",
      "display_name": "Python 3"
    },
    "language_info": {
      "name": "python"
    }
  },
  "cells": [
    {
      "cell_type": "markdown",
      "metadata": {
        "id": "view-in-github",
        "colab_type": "text"
      },
      "source": [
        "<a href=\"https://colab.research.google.com/github/Najlalala007/Machine-Learning/blob/main/ML_3.ipynb\" target=\"_parent\"><img src=\"https://colab.research.google.com/assets/colab-badge.svg\" alt=\"Open In Colab\"/></a>"
      ]
    },
    {
      "cell_type": "code",
      "source": [
        "import numpy as np\n",
        "\n",
        "# Dataset\n",
        "data = np.array([\n",
        "    [40, 5, 60],\n",
        "    [50, 8, 40],\n",
        "    [50, 7, 30],\n",
        "    [70, 4, 60],\n",
        "    [80, 4, 80],\n",
        "    [60, 6, 60]\n",
        "])\n",
        "\n",
        "# Corresponding labels ('Y' values)\n",
        "Y = np.array(['DENIED', 'ACCEPT', 'ACCEPT', 'DENIED', 'ACCEPT', 'ACCEPT'])\n",
        "\n",
        "# Query point\n",
        "query_point = np.array([50, 3, 40])\n"
      ],
      "metadata": {
        "id": "4UDvYMEGA8r-"
      },
      "execution_count": 2,
      "outputs": []
    },
    {
      "cell_type": "code",
      "source": [
        "# Function to calculate square distance\n",
        "def square_distance(v1, v2):\n",
        "    return np.sum((v1 - v2) ** 2)\n",
        "\n",
        "# Calculating the square distances to the query point\n",
        "distances = np.array([square_distance(x, query_point) for x in data])\n"
      ],
      "metadata": {
        "id": "QPF0NqV5A_TQ"
      },
      "execution_count": 3,
      "outputs": []
    },
    {
      "cell_type": "code",
      "source": [
        "# Number of neighbors\n",
        "k = 3\n",
        "\n",
        "# Determining the indices of the three closest neighbors\n",
        "closest_indices = np.argsort(distances)[:k]\n"
      ],
      "metadata": {
        "id": "uIZ_uo7IBAcV"
      },
      "execution_count": 4,
      "outputs": []
    },
    {
      "cell_type": "code",
      "source": [
        "# Getting the 'Y' values of the closest neighbors\n",
        "closest_y_values = Y[closest_indices]\n",
        "\n",
        "# Decision based on majority vote\n",
        "from collections import Counter\n",
        "vote_result = Counter(closest_y_values)\n",
        "decision = vote_result.most_common(1)[0][0]\n",
        "\n",
        "print(f\"Closest Y values: {closest_y_values}\")\n",
        "print(f\"Decision: {decision}\")\n"
      ],
      "metadata": {
        "colab": {
          "base_uri": "https://localhost:8080/"
        },
        "id": "f3WVIW_dBD6c",
        "outputId": "65b21073-1c08-4e5e-dcc2-1571c2d05676"
      },
      "execution_count": 5,
      "outputs": [
        {
          "output_type": "stream",
          "name": "stdout",
          "text": [
            "Closest Y values: ['ACCEPT' 'ACCEPT' 'DENIED']\n",
            "Decision: ACCEPT\n"
          ]
        }
      ]
    },
    {
      "cell_type": "code",
      "source": [],
      "metadata": {
        "id": "GL5qyHmEBHi8"
      },
      "execution_count": 5,
      "outputs": []
    },
    {
      "cell_type": "code",
      "source": [
        "print(f\"Distances: {distances}\")\n",
        "print(f\"Indices of closest neighbors: {closest_indices}\")\n"
      ],
      "metadata": {
        "colab": {
          "base_uri": "https://localhost:8080/"
        },
        "id": "Fkmkh_yYBJI-",
        "outputId": "d0d90b8e-e54f-47bd-d143-86927e8e6876"
      },
      "execution_count": 6,
      "outputs": [
        {
          "output_type": "stream",
          "name": "stdout",
          "text": [
            "Distances: [ 504   25  116  801 2501  509]\n",
            "Indices of closest neighbors: [1 2 0]\n"
          ]
        }
      ]
    }
  ]
}